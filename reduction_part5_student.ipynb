{
 "cells": [
  {
   "cell_type": "markdown",
   "metadata": {},
   "source": [
    "<h2>OBSERVATIONAL ASTROPHYSICS – FALL 2019 Reduction Exercise: Part 5</h2>\n",
    "\n",
    "The goal of this part is to produce a color-magnitude diagram for your cluster.  Do do this we need to detect stars, measure their flux, compare it to a known magnitude for that star, derive the magnitude zeropoint for that band, and convert all of your fluxes to magnitudes.  This will be broked into the following steps:\n",
    "\n",
    "1. read in image with a valid astrometric header (the output image from the end of part 4);\n",
    "2. Locate stars in this image and measure their flux;\n",
    "3. Read in an ASCII file with a list of measured magnitudes for stars in that cluster;\n",
    "4. Cross-match the two lists to find which object corresponds to which;\n",
    "5. Compare the fluxes and magnitudes to determine the magnitude zeropoint of your image, i.e. what magnitude is a single count;\n",
    "6. Use this to create magnitudes in each band\n",
    "7. Produce a color-magnitude diagrame\n",
    "\n",
    "The first cell below is a routine designed to read in one image"
   ]
  },
  {
   "cell_type": "code",
   "execution_count": 1,
   "metadata": {},
   "outputs": [],
   "source": [
    "import os, glob, time\n",
    "import numpy as np\n",
    "from astropy.io import fits\n",
    "from matplotlib import pyplot as plt\n",
    "\n",
    "redpath = \"/home/e200o154/RFSLAB/USER_DPT/e200o154/ASTR596/Data/Reduced/20191105/\""
   ]
  },
  {
   "cell_type": "markdown",
   "metadata": {},
   "source": [
    "A routine to display in image"
   ]
  },
  {
   "cell_type": "code",
   "execution_count": 2,
   "metadata": {},
   "outputs": [],
   "source": [
    "def display_image(img, minclip=5, maxclip=95, label=None, cmap='Greys_r', \n",
    "                  srcs=None, projection=None, calibrated=False):\n",
    "    \"\"\"Simple wrapper to display an image.\n",
    "    \n",
    "    \"\"\"\n",
    "    from astropy.visualization import AsinhStretch as Stretch\n",
    "    from astropy.visualization import ZScaleInterval as Interval\n",
    "    from astropy.visualization.mpl_normalize import ImageNormalize\n",
    "\n",
    "    #from astropy.visualization import simple_norm\n",
    "    #norm = simple_norm(img, min_percent=minclip, max_percent=maxclip)\n",
    "\n",
    "    interval = Interval(contrast=0.5)\n",
    "    vmin, vmax = interval.get_limits(img)\n",
    "    norm = ImageNormalize(interval=interval, stretch=Stretch(a=0.9))\n",
    "\n",
    "    fig, ax = plt.subplots(figsize=(12, 12), subplot_kw={'projection': projection})\n",
    "    im = ax.imshow(img, origin='lower', norm=norm, cmap=cmap,\n",
    "                   vmin=vmin, vmax=vmax)\n",
    "    if projection:\n",
    "        ax.coords.grid(color='red')\n",
    "        ax.coords['ra'].set_axislabel('Right Ascension')\n",
    "        ax.coords['dec'].set_axislabel('Declination')      \n",
    "    else:\n",
    "        ax.set_xlabel('Column Number (pixels)')\n",
    "        ax.set_ylabel('Row Number (pixels)')\n",
    "\n",
    "    # Mark the locations of stars.\n",
    "    if srcs:\n",
    "        from photutils import CircularAperture\n",
    "        pos = np.transpose((srcs['xcentroid'], srcs['ycentroid']))\n",
    "        aps = CircularAperture(pos, r=12.)\n",
    "        aps.plot(color='red', lw=1.5, alpha=0.6, axes=ax)\n",
    "      \n",
    "    # Make room for the colorbar\n",
    "    fig.subplots_adjust(right=0.8)\n",
    "    cax = fig.add_axes([0.85, 0.28, 0.05, 0.45])\n",
    "    c = plt.colorbar(im, cax=cax)\n",
    "    if label:\n",
    "        c.set_label(label)\n",
    "    else:\n",
    "        if calibrated:\n",
    "            c.set_label(r'Intensity ($e^{-}/s$)')\n",
    "        else:\n",
    "            c.set_label('Intensity (ADU)')"
   ]
  },
  {
   "cell_type": "markdown",
   "metadata": {},
   "source": [
    "<h3> Find the stars in your image</h3>"
   ]
  },
  {
   "cell_type": "code",
   "execution_count": 3,
   "metadata": {},
   "outputs": [],
   "source": [
    "#filename should be the name of the combined image file (without path) that has the original header\n",
    "#wcsfilename should be the name of the image that has the correct WCS header, e.g. one output\n",
    "#by astrometry.net. \n",
    "def read_one_image(filename, wcsfilename, redpath):\n",
    "    from astropy.table import Table\n",
    "    from astropy.wcs import WCS\n",
    "\n",
    "    # This joins the path and the filename\n",
    "    imgfile = os.path.join('{}'.format(redpath), filename)\n",
    "    wcsfile = os.path.join('{}'.format(redpath), wcsfilename)\n",
    "\n",
    "    print('Reading {}'.format(imgfile))\n",
    "    #this is the image and full header of the file.  \n",
    "    img, hdr = fits.getdata(imgfile, header=True)\n",
    "    wcshdr = fits.getheader(wcsfile)\n",
    "\n",
    "    #this is only the section of the file that contains the WCS, which is the mapping between pixel \n",
    "    #and sky coordinate (RA,DEC)\n",
    "    imgwcs = WCS(wcshdr)#, naxis=2)\n",
    "\n",
    "    return img, hdr, imgwcs, imgfile"
   ]
  },
  {
   "cell_type": "code",
   "execution_count": 5,
   "metadata": {},
   "outputs": [
    {
     "name": "stdout",
     "output_type": "stream",
     "text": [
      "Reading /home/e200o154/RFSLAB/USER_DPT/e200o154/ASTR596/Data/Reduced/20191105/ngc7128_B_comb.fits\n",
      "Reading /home/e200o154/RFSLAB/USER_DPT/e200o154/ASTR596/Data/Reduced/20191105/King20_V_comb.fits\n"
     ]
    }
   ],
   "source": [
    "\n",
    "img_ngc7128_B, hdr_ngc7128_B, imgwcs_ngc7128_B, imgfile_ngc7128_B = read_one_image('ngc7128_B_comb.fits','wngc7128_B_comb.fits',redpath)\n",
    "img_King20_V, hdr_King20_V, imgwcs_King20_V, imgfile_King20_V = read_one_image('King20_V_comb.fits','wKing20_V_comb.fits',redpath)\n"
   ]
  },
  {
   "cell_type": "markdown",
   "metadata": {},
   "source": [
    "This is the same routine that we used in part 4.  It measures the background."
   ]
  },
  {
   "cell_type": "code",
   "execution_count": 6,
   "metadata": {},
   "outputs": [],
   "source": [
    "def get_sky_background(img, verbose=True):\n",
    "    from astropy.stats import SigmaClip\n",
    "    from photutils import Background2D, MedianBackground\n",
    "    sigma_clip = SigmaClip(sigma=4.)\n",
    "    bkg = Background2D(img, (100, 100), filter_size=(10, 10), sigma_clip=sigma_clip, \n",
    "                       bkg_estimator=MedianBackground())\n",
    "    if verbose:\n",
    "        print('Sky background median = {:.3f}, rms = {:.3f} electrons.'.format(bkg.background_median, bkg.background_rms_median))\n",
    "    return bkg"
   ]
  },
  {
   "cell_type": "markdown",
   "metadata": {},
   "source": [
    "This gets the background and subtracts it from the image to get a background subtracted image.  As in part 4 we check that the background looks correct."
   ]
  },
  {
   "cell_type": "code",
   "execution_count": 9,
   "metadata": {},
   "outputs": [
    {
     "name": "stdout",
     "output_type": "stream",
     "text": [
      "Sky background median = 2.633, rms = 0.062 electrons.\n",
      "Sky background median = 2.296, rms = 0.057 electrons.\n"
     ]
    }
   ],
   "source": [
    "#***********\n",
    "bkg_V = get_sky_background(img_King20_V, verbose=True)\n",
    "img_King20_V_nosky = img_King20_V - bkg_V.background\n",
    "\n",
    "bkg_B = get_sky_background(img_ngc7128_B, verbose=True)\n",
    "img_ngc7128_B_nosky = img_ngc7128_B - bkg_B.background"
   ]
  },
  {
   "cell_type": "code",
   "execution_count": 10,
   "metadata": {},
   "outputs": [],
   "source": [
    "def qa_background(img,img_nosky,bkg):\n",
    "    med, sig = bkg.background_median, bkg.background_rms_median\n",
    "    vrange = (-3*sig, med+5*sig)\n",
    "    fig, ax = plt.subplots(figsize=(7, 5))\n",
    "    _ = ax.hist(img.flatten(), bins=100, range=vrange, label='Image w/ Background')\n",
    "    #_ = ax.hist(bkg.background.flatten(), bins=50, range=(-sig, med+5*sig), label='Background')\n",
    "    _ = ax.hist(img_nosky.flatten(), bins=100, range=vrange, label='Image w/o Background')\n",
    "    ax.axvline(x=bkg.background_median, lw=2, ls='-', color='k')\n",
    "    ax.set_xlabel('Intensity (e-/s)')\n",
    "    ax.set_ylabel('Number')\n",
    "    ax.legend(fontsize=12, frameon=False)"
   ]
  },
  {
   "cell_type": "code",
   "execution_count": 12,
   "metadata": {},
   "outputs": [
    {
     "data": {
      "image/png": "[encoded data removed]",
      "text/plain": [
       "<Figure size 504x360 with 1 Axes>"
      ]
     },
     "metadata": {
      "needs_background": "light"
     },
     "output_type": "display_data"
    },
    {
     "data": {
      "image/png": "[encoded data removed]",
      "text/plain": [
       "<Figure size 504x360 with 1 Axes>"
      ]
     },
     "metadata": {
      "needs_background": "light"
     },
     "output_type": "display_data"
    }
   ],
   "source": [
    "#***********\n",
    "qa_background(img_King20_V, img_King20_V_nosky,bkg_V)\n",
    "qa_background(img_ngc7128_B, img_ngc7128_B_nosky,bkg_B)"
   ]
  },
  {
   "cell_type": "markdown",
   "metadata": {},
   "source": [
    "This routine detects stars in the image.  It requires a zero background image.  There are many ways to measure object flux.  We are using the DAOStarfinder algorithm described (https://photutils.readthedocs.io/en/stable/api/photutils.detection.DAOStarFinder.html)\n",
    "\n",
    "This code requires as input the FWHM of stars in the image in pixel units.  You can determine this using the *imexam* task.\n",
    "\n",
    "You can use this by going to your image directory and typing *ipython* at the command line.  Once the interactive python environment loads you type the following set of commands:\n",
    "\n",
    "*import imexam*\n",
    "*viewer=imexam.connect()*\n",
    "*viewer.load_fits('<filename>')*\n",
    "*viewer.scale()*\n",
    "    \n",
    "You can then hit the \"a\" key and \"r\" key on bright isolated and unsaturated stars to find the FWHM.\n",
    "\n",
    "If imexam doesn't work on your computer then just use the mean FWHM from all the individual observations for that band/target\n",
    "\n",
    "This will need to be run once for each band"
   ]
  },
  {
   "cell_type": "code",
   "execution_count": 13,
   "metadata": {},
   "outputs": [],
   "source": [
    "#this code outputs a file with all the detected stars.\n",
    "#fwhm is for stars in the image in units of pixels\n",
    "#nsigma is the detection threshold for each star\n",
    "def find_stars(image, imgfile, fwhm=3.0, nsigma=3, sigma=None, \n",
    "               verbose=True, overwrite=False):\n",
    "    from astropy.table import Table\n",
    "    \n",
    "    #this makes a file \n",
    "    starsfile = os.path.join(redpath, 'stars-{}'.format(os.path.basename(imgfile)))\n",
    "    if not os.path.isfile(starsfile) or overwrite:\n",
    "        from photutils import DAOStarFinder\n",
    "        if sigma is None:\n",
    "            sigma = np.std(image)\n",
    "\n",
    "        daofind = DAOStarFinder(fwhm=fwhm, threshold=nsigma * sigma)\n",
    "        srcs = daofind(image)\n",
    "        # reverse-sort by flux \n",
    "        srcs.sort('flux')\n",
    "        srcs.reverse()\n",
    "        if verbose:\n",
    "            print('Found {} sources'.format(len(srcs)))\n",
    "\n",
    "        print('Writing {} stars to {}'.format(len(srcs), starsfile))\n",
    "        srcs.write(starsfile, overwrite=True)\n",
    "    else:\n",
    "        srcs = Table.read(starsfile)\n",
    "        print('Read {} stars from {}'.format(len(srcs), starsfile))\n",
    "    return srcs"
   ]
  },
  {
   "cell_type": "code",
   "execution_count": 15,
   "metadata": {},
   "outputs": [
    {
     "name": "stdout",
     "output_type": "stream",
     "text": [
      "Read 428 stars from /home/e200o154/RFSLAB/USER_DPT/e200o154/ASTR596/Data/Reduced/20191105/stars-ngc7128_B_comb.fits\n"
     ]
    },
    {
     "data": {
      "text/html": [
       "<i>Table length=428</i>\n",
       "<table id=\"table140631470809296\" class=\"table-striped table-bordered table-condensed\">\n",
       "<thead><tr><th>id</th><th>xcentroid</th><th>ycentroid</th><th>sharpness</th><th>roundness1</th><th>roundness2</th><th>npix</th><th>sky</th><th>peak</th><th>flux</th><th>mag</th></tr></thead>\n",
       "<thead><tr><th>int64</th><th>float64</th><th>float64</th><th>float64</th><th>float64</th><th>float64</th><th>int64</th><th>float64</th><th>float64</th><th>float64</th><th>float64</th></tr></thead>\n",
       "<tr><td>171</td><td>50.465023385538</td><td>1029.0579646703886</td><td>0.3764602582795505</td><td>0.015105368056233998</td><td>-0.042203285211713376</td><td>25</td><td>0.0</td><td>910.1957247043459</td><td>1156.5022327085794</td><td>-7.657866188858424</td></tr>\n",
       "<tr><td>234</td><td>963.2491906965062</td><td>1293.9710194732238</td><td>0.3996883172507363</td><td>0.015962663149320735</td><td>-0.03591971778280238</td><td>25</td><td>0.0</td><td>522.345495388082</td><td>651.6312855354504</td><td>-7.035004817733128</td></tr>\n",
       "<tr><td>120</td><td>1788.350357073857</td><td>791.6072382919313</td><td>0.42858017397756726</td><td>-0.038047093729608336</td><td>-0.0007395313139146497</td><td>25</td><td>0.0</td><td>363.50867570971207</td><td>521.1380018381342</td><td>-6.792381858635799</td></tr>\n",
       "<tr><td>224</td><td>1264.6039774593319</td><td>1269.575961082541</td><td>0.38596344508586916</td><td>-0.11003362044090749</td><td>-0.10115443308329898</td><td>25</td><td>0.0</td><td>334.1367081501344</td><td>434.659192461278</td><td>-6.595372172016143</td></tr>\n",
       "<tr><td>424</td><td>752.474476895746</td><td>2024.6340158936082</td><td>0.4100480569163792</td><td>0.044658710182599363</td><td>-0.17909767319611652</td><td>25</td><td>0.0</td><td>238.99359444416575</td><td>353.80915004189814</td><td>-6.3719226505843505</td></tr>\n",
       "<tr><td>310</td><td>978.6599513950858</td><td>1600.5009380998163</td><td>0.4411366472465794</td><td>0.03825593987586884</td><td>-0.06948994118356872</td><td>25</td><td>0.0</td><td>245.46255851523955</td><td>332.56546689194215</td><td>-6.304692876814083</td></tr>\n",
       "<tr><td>329</td><td>199.80637514588116</td><td>1654.2018090275947</td><td>0.3846547208421754</td><td>0.019703471162036874</td><td>-0.12676676199064554</td><td>25</td><td>0.0</td><td>171.0536507189251</td><td>239.05123447718236</td><td>-5.946227476911188</td></tr>\n",
       "<tr><td>53</td><td>450.22708783012484</td><td>407.28283472738536</td><td>0.40628840562110274</td><td>-0.0436543463886233</td><td>-0.016674129866947583</td><td>25</td><td>0.0</td><td>188.17850646469293</td><td>232.48438002424996</td><td>-5.9159844479341945</td></tr>\n",
       "<tr><td>42</td><td>1266.2139995581229</td><td>338.7882680576596</td><td>0.39603345361397796</td><td>0.011721020180300655</td><td>-0.05041657295914466</td><td>25</td><td>0.0</td><td>134.42402054922314</td><td>173.77361878932672</td><td>-5.599959613195051</td></tr>\n",
       "<tr><td>267</td><td>1312.1541562300094</td><td>1419.7545951578097</td><td>0.41310021248296397</td><td>-0.043017939977704034</td><td>-0.07092066995780452</td><td>25</td><td>0.0</td><td>99.63942656259583</td><td>139.9482726854499</td><td>-5.364918856365812</td></tr>\n",
       "<tr><td>...</td><td>...</td><td>...</td><td>...</td><td>...</td><td>...</td><td>...</td><td>...</td><td>...</td><td>...</td><td>...</td></tr>\n",
       "<tr><td>168</td><td>1800.6908846830345</td><td>1015.0643241429477</td><td>0.5956445651336533</td><td>0.7372800016537908</td><td>0.1918584834218839</td><td>25</td><td>0.0</td><td>0.6289313878848986</td><td>1.0246776392729326</td><td>-0.026468147615134142</td></tr>\n",
       "<tr><td>231</td><td>743.7670764610442</td><td>1289.925141080691</td><td>0.4863934954102986</td><td>0.05600351422668955</td><td>-0.46548211890050745</td><td>25</td><td>0.0</td><td>0.7262127679944017</td><td>1.0192126434022484</td><td>-0.020662006193285523</td></tr>\n",
       "<tr><td>19</td><td>1407.8509927779708</td><td>167.06591240580863</td><td>0.3835500651298566</td><td>0.19729122943608746</td><td>0.23426386263267934</td><td>25</td><td>0.0</td><td>0.601861629501204</td><td>1.0171617166945126</td><td>-0.018475015258386487</td></tr>\n",
       "<tr><td>254</td><td>915.236387813956</td><td>1373.0277281540161</td><td>0.40555906025475547</td><td>-0.018807704761356327</td><td>-0.2063429785068266</td><td>25</td><td>0.0</td><td>0.7802604120136696</td><td>1.0128339606342112</td><td>-0.013845637362428661</td></tr>\n",
       "<tr><td>98</td><td>1528.124654701959</td><td>649.6088915521788</td><td>0.4687917031624819</td><td>-0.04102852718379369</td><td>0.216289369983983</td><td>25</td><td>0.0</td><td>0.5538142585173205</td><td>1.0100226834563746</td><td>-0.010827818588564629</td></tr>\n",
       "<tr><td>141</td><td>488.3758242214797</td><td>919.5722194661853</td><td>0.4523726456536032</td><td>0.29383090607846885</td><td>0.16640913378613978</td><td>25</td><td>0.0</td><td>0.41879909977736096</td><td>1.0064647246995744</td><td>-0.0069963950641917854</td></tr>\n",
       "<tr><td>67</td><td>1879.1062840811896</td><td>483.95450655251057</td><td>0.3871173293200697</td><td>0.06041222257151964</td><td>0.13212554502770646</td><td>25</td><td>0.0</td><td>0.4859318456961379</td><td>1.0046091670385104</td><td>-0.004992841925131921</td></tr>\n",
       "<tr><td>227</td><td>978.2809586172779</td><td>1279.3611483107945</td><td>0.34559786297746153</td><td>0.257677136064243</td><td>-0.0011785507424543072</td><td>25</td><td>0.0</td><td>0.46834765046118676</td><td>1.0033957671199616</td><td>-0.0036806615013051493</td></tr>\n",
       "<tr><td>343</td><td>1541.1449069057649</td><td>1703.6849007636847</td><td>0.41099030778355616</td><td>-0.8420293876064954</td><td>0.04659280549741314</td><td>25</td><td>0.0</td><td>0.4940300885591822</td><td>1.003172865558759</td><td>-0.003439441448176842</td></tr>\n",
       "<tr><td>100</td><td>1547.8566384927517</td><td>656.2723031500975</td><td>0.6201894357166453</td><td>0.5572370405524897</td><td>-0.013406800848693485</td><td>25</td><td>0.0</td><td>0.4280349669424637</td><td>1.0008265058577228</td><td>-0.0008969966977031649</td></tr>\n",
       "</table>"
      ],
      "text/plain": [
       "<Table length=428>\n",
       "  id      xcentroid      ...        flux                 mag          \n",
       "int64      float64       ...      float64              float64        \n",
       "----- ------------------ ... ------------------ ----------------------\n",
       "  171    50.465023385538 ... 1156.5022327085794     -7.657866188858424\n",
       "  234  963.2491906965062 ...  651.6312855354504     -7.035004817733128\n",
       "  120  1788.350357073857 ...  521.1380018381342     -6.792381858635799\n",
       "  224 1264.6039774593319 ...   434.659192461278     -6.595372172016143\n",
       "  424   752.474476895746 ... 353.80915004189814    -6.3719226505843505\n",
       "  310  978.6599513950858 ... 332.56546689194215     -6.304692876814083\n",
       "  329 199.80637514588116 ... 239.05123447718236     -5.946227476911188\n",
       "   53 450.22708783012484 ... 232.48438002424996    -5.9159844479341945\n",
       "   42 1266.2139995581229 ... 173.77361878932672     -5.599959613195051\n",
       "  267 1312.1541562300094 ...  139.9482726854499     -5.364918856365812\n",
       "  ...                ... ...                ...                    ...\n",
       "  168 1800.6908846830345 ... 1.0246776392729326  -0.026468147615134142\n",
       "  231  743.7670764610442 ... 1.0192126434022484  -0.020662006193285523\n",
       "   19 1407.8509927779708 ... 1.0171617166945126  -0.018475015258386487\n",
       "  254   915.236387813956 ... 1.0128339606342112  -0.013845637362428661\n",
       "   98  1528.124654701959 ... 1.0100226834563746  -0.010827818588564629\n",
       "  141  488.3758242214797 ... 1.0064647246995744 -0.0069963950641917854\n",
       "   67 1879.1062840811896 ... 1.0046091670385104  -0.004992841925131921\n",
       "  227  978.2809586172779 ... 1.0033957671199616 -0.0036806615013051493\n",
       "  343 1541.1449069057649 ...  1.003172865558759  -0.003439441448176842\n",
       "  100 1547.8566384927517 ... 1.0008265058577228 -0.0008969966977031649"
      ]
     },
     "execution_count": 15,
     "metadata": {},
     "output_type": "execute_result"
    }
   ],
   "source": [
    "#***********\n",
    "srcs_ngc7128_B = find_stars(img_ngc7128_B_nosky, imgfile_ngc7128_B, sigma=bkg_B.background_rms_median, nsigma=5, \n",
    "                  verbose=True, overwrite=False)\n",
    "srcs_ngc7128_B"
   ]
  },
  {
   "cell_type": "code",
   "execution_count": 16,
   "metadata": {},
   "outputs": [
    {
     "name": "stdout",
     "output_type": "stream",
     "text": [
      "Read 876 stars from /home/e200o154/RFSLAB/USER_DPT/e200o154/ASTR596/Data/Reduced/20191105/stars-King20_V_comb.fits\n"
     ]
    },
    {
     "data": {
      "text/html": [
       "<i>Table length=876</i>\n",
       "<table id=\"table140631470851600\" class=\"table-striped table-bordered table-condensed\">\n",
       "<thead><tr><th>id</th><th>xcentroid</th><th>ycentroid</th><th>sharpness</th><th>roundness1</th><th>roundness2</th><th>npix</th><th>sky</th><th>peak</th><th>flux</th><th>mag</th></tr></thead>\n",
       "<thead><tr><th>int64</th><th>float64</th><th>float64</th><th>float64</th><th>float64</th><th>float64</th><th>int64</th><th>float64</th><th>float64</th><th>float64</th><th>float64</th></tr></thead>\n",
       "<tr><td>502</td><td>1149.1874231065703</td><td>1298.8373575041599</td><td>0.4008561727004806</td><td>0.025745722168484038</td><td>-0.002337488567729927</td><td>25</td><td>0.0</td><td>964.8727524929322</td><td>1328.1173444678025</td><td>-7.808091120944891</td></tr>\n",
       "<tr><td>381</td><td>236.31115439446103</td><td>1034.8312291486925</td><td>0.3636258378410993</td><td>0.005012950094231248</td><td>-0.29513616377857377</td><td>25</td><td>0.0</td><td>1169.1966156513747</td><td>1256.111681429836</td><td>-7.747570636067533</td></tr>\n",
       "<tr><td>377</td><td>236.2130933776425</td><td>1034.1924148272615</td><td>0.4078108068502781</td><td>-0.32287719564655015</td><td>-0.46136674023917507</td><td>25</td><td>0.0</td><td>1173.898471183021</td><td>1204.7042844596303</td><td>-7.702201137218091</td></tr>\n",
       "<tr><td>379</td><td>236.34228121424923</td><td>1034.4501836475984</td><td>0.46641316234352326</td><td>0.20639831942820452</td><td>0.18471236419960707</td><td>25</td><td>0.0</td><td>1132.633814350489</td><td>1183.420898768746</td><td>-7.682848086215511</td></tr>\n",
       "<tr><td>265</td><td>1973.93051877368</td><td>796.1287481618039</td><td>0.4263192165715881</td><td>0.030746239095241833</td><td>0.031212726371279323</td><td>25</td><td>0.0</td><td>746.6995530787227</td><td>1163.220789358585</td><td>-7.6641553884964715</td></tr>\n",
       "<tr><td>378</td><td>233.5977204974895</td><td>1034.44605015288</td><td>0.45602609182818815</td><td>0.013342205800331469</td><td>-0.1913741797198417</td><td>25</td><td>0.0</td><td>1017.6716872395102</td><td>1139.245052957778</td><td>-7.641542878460324</td></tr>\n",
       "<tr><td>490</td><td>1450.515537411291</td><td>1274.3291091598905</td><td>0.40058829135484747</td><td>0.04749500244557021</td><td>-0.0036840043555300913</td><td>25</td><td>0.0</td><td>647.5575682600618</td><td>909.8091044204527</td><td>-7.397375696204559</td></tr>\n",
       "<tr><td>568</td><td>1498.0496136734012</td><td>1424.5503309399771</td><td>0.4229885416695193</td><td>-0.001262492358599379</td><td>0.02558054783394441</td><td>25</td><td>0.0</td><td>604.6182158970759</td><td>900.9721473812559</td><td>-7.3867784135586545</td></tr>\n",
       "<tr><td>99</td><td>1451.6357462057392</td><td>343.70115927836576</td><td>0.41419159807798256</td><td>-0.07181664016938984</td><td>-0.09477061891226103</td><td>25</td><td>0.0</td><td>538.7192394363564</td><td>751.334531896651</td><td>-7.189583374493653</td></tr>\n",
       "<tr><td>675</td><td>385.86763423194895</td><td>1659.5111480886394</td><td>0.41421584791355814</td><td>0.1167198115554084</td><td>0.04392477203072673</td><td>25</td><td>0.0</td><td>461.0091325364204</td><td>680.0676620823738</td><td>-7.081380310468326</td></tr>\n",
       "<tr><td>...</td><td>...</td><td>...</td><td>...</td><td>...</td><td>...</td><td>...</td><td>...</td><td>...</td><td>...</td><td>...</td></tr>\n",
       "<tr><td>350</td><td>1361.081686782048</td><td>994.4182097060816</td><td>0.43888395608579284</td><td>0.977407204766232</td><td>0.3000211994329476</td><td>25</td><td>0.0</td><td>0.5249165679574408</td><td>1.0108977955672096</td><td>-0.011768123732884357</td></tr>\n",
       "<tr><td>782</td><td>1761.9803252113734</td><td>1858.144565212869</td><td>0.31003775458365224</td><td>0.05490633769936585</td><td>0.1334511655541289</td><td>25</td><td>0.0</td><td>0.11875188810958948</td><td>1.0093412617957622</td><td>-0.010095068855705096</td></tr>\n",
       "<tr><td>272</td><td>676.37935515966</td><td>818.8544360293527</td><td>0.3765063662069657</td><td>-0.599875409601496</td><td>-0.447427183545606</td><td>25</td><td>0.0</td><td>0.7646771699164141</td><td>1.0082266171724867</td><td>-0.008895396558507485</td></tr>\n",
       "<tr><td>554</td><td>1965.9548024245087</td><td>1384.8543433445352</td><td>0.4733805721471474</td><td>-0.19445106097486292</td><td>-0.12858961688515377</td><td>25</td><td>0.0</td><td>0.6000258516509063</td><td>1.0068607285079927</td><td>-0.0074235050248605975</td></tr>\n",
       "<tr><td>856</td><td>1116.7006154744147</td><td>2013.3876499478833</td><td>0.28411809276534283</td><td>-0.06532875987929543</td><td>-0.32881983513041957</td><td>25</td><td>0.0</td><td>0.45455027303143947</td><td>1.0060693781460768</td><td>-0.006569826320364614</td></tr>\n",
       "<tr><td>280</td><td>848.0561983348596</td><td>843.530010150966</td><td>0.5559637923410047</td><td>0.4045274284796547</td><td>-0.06791335341641434</td><td>25</td><td>0.0</td><td>0.9753901137101133</td><td>1.003152028439749</td><td>-0.0034168891540987305</td></tr>\n",
       "<tr><td>108</td><td>237.9520142739677</td><td>363.32455149568034</td><td>0.5280476184842635</td><td>0.4368136845881298</td><td>0.24621316637842733</td><td>25</td><td>0.0</td><td>0.5099307162014042</td><td>1.0030233920330285</td><td>-0.003277653868098667</td></tr>\n",
       "<tr><td>306</td><td>713.0531381511796</td><td>910.3870821684432</td><td>0.29152222767570846</td><td>-0.4188360687558859</td><td>-0.18024734265673556</td><td>25</td><td>0.0</td><td>0.6184929022929659</td><td>1.0012406212661877</td><td>-0.0013461525648960052</td></tr>\n",
       "<tr><td>345</td><td>1714.7689866489327</td><td>988.7366008703706</td><td>0.48009914591121006</td><td>-0.21917339186780332</td><td>0.2699203423970303</td><td>25</td><td>0.0</td><td>0.6539920569443014</td><td>1.0011791862710928</td><td>-0.0012795309721774844</td></tr>\n",
       "<tr><td>876</td><td>1209.095414154051</td><td>2046.398191779897</td><td>0.4142970875370729</td><td>-0.30365995135449264</td><td>-0.5770657294961348</td><td>25</td><td>0.0</td><td>0.35723831779110515</td><td>1.0003355898008186</td><td>-0.0003643008722861482</td></tr>\n",
       "</table>"
      ],
      "text/plain": [
       "<Table length=876>\n",
       "  id      xcentroid      ...        flux                 mag          \n",
       "int64      float64       ...      float64              float64        \n",
       "----- ------------------ ... ------------------ ----------------------\n",
       "  502 1149.1874231065703 ... 1328.1173444678025     -7.808091120944891\n",
       "  381 236.31115439446103 ...  1256.111681429836     -7.747570636067533\n",
       "  377  236.2130933776425 ... 1204.7042844596303     -7.702201137218091\n",
       "  379 236.34228121424923 ...  1183.420898768746     -7.682848086215511\n",
       "  265   1973.93051877368 ...  1163.220789358585    -7.6641553884964715\n",
       "  378  233.5977204974895 ...  1139.245052957778     -7.641542878460324\n",
       "  490  1450.515537411291 ...  909.8091044204527     -7.397375696204559\n",
       "  568 1498.0496136734012 ...  900.9721473812559    -7.3867784135586545\n",
       "   99 1451.6357462057392 ...   751.334531896651     -7.189583374493653\n",
       "  675 385.86763423194895 ...  680.0676620823738     -7.081380310468326\n",
       "  ...                ... ...                ...                    ...\n",
       "  350  1361.081686782048 ... 1.0108977955672096  -0.011768123732884357\n",
       "  782 1761.9803252113734 ... 1.0093412617957622  -0.010095068855705096\n",
       "  272    676.37935515966 ... 1.0082266171724867  -0.008895396558507485\n",
       "  554 1965.9548024245087 ... 1.0068607285079927 -0.0074235050248605975\n",
       "  856 1116.7006154744147 ... 1.0060693781460768  -0.006569826320364614\n",
       "  280  848.0561983348596 ...  1.003152028439749 -0.0034168891540987305\n",
       "  108  237.9520142739677 ... 1.0030233920330285  -0.003277653868098667\n",
       "  306  713.0531381511796 ... 1.0012406212661877 -0.0013461525648960052\n",
       "  345 1714.7689866489327 ... 1.0011791862710928 -0.0012795309721774844\n",
       "  876  1209.095414154051 ... 1.0003355898008186 -0.0003643008722861482"
      ]
     },
     "execution_count": 16,
     "metadata": {},
     "output_type": "execute_result"
    }
   ],
   "source": [
    "srcs_King20_V = find_stars(img_King20_V_nosky, imgfile_King20_V, sigma=bkg_V.background_rms_median, nsigma=5, \n",
    "                  verbose=True, overwrite=False)\n",
    "srcs_King20_V"
   ]
  },
  {
   "cell_type": "markdown",
   "metadata": {},
   "source": [
    "<h3> Use stars from Pan-STARRS</h3>\n",
    "\n",
    "We will be using the large survey called Pan-STARRS (https://panstarrs.stsci.edu/).  Pan-STARRS uses SDSS filters (*griz*), which are different from the \"Johnson\" *BVR* filters that we are using.  But there are transformation between these filters such that if we know the Pan-STARRS magnitudes of a given object, we can determine its B-V color.\n",
    "\n",
    "This routine sends a request to a catalog server at a remote location and pulls back all the photometry"
   ]
  },
  {
   "cell_type": "code",
   "execution_count": 17,
   "metadata": {},
   "outputs": [],
   "source": [
    "def get_panstarrs_catalog(imgwcs, radius=0.2, rfaint=17, region=False):\n",
    "    from astroquery.mast import Catalogs\n",
    "    ra0, dec0 = imgwcs.wcs.crval\n",
    "    print('Querying Pan-STARRS catalog with radius={:.3f} deg and central coordinates RA,Dec={:.5f},{:.5f}'.format(\n",
    "        radius, ra0, dec0))\n",
    "    if region:\n",
    "        allcat = Catalogs.query_region('{} {}'.format(ra0, dec0), radius=radius,\n",
    "                                       catalog='PANSTARRS', data_release='dr2', \n",
    "                                       table='mean')#, rMeanPSFMag=[12, 22])\n",
    "    else:\n",
    "        allcat = Catalogs.query_criteria(coordinates='{} {}'.format(ra0, dec0), radius=radius,\n",
    "                                         catalog='PANSTARRS', data_release='dr2', \n",
    "                                         table='mean',\n",
    "                                         columns=['objID', 'raMean', 'decMean',\n",
    "                                                  'gMeanPSFMag', 'rMeanPSFMag', 'iMeanPSFMag', 'zMeanPSFMag'],\n",
    "                                         gMeanPSFMag=[('lte', 18), ('gte', 12)],\n",
    "                                         rMeanPSFMag=[('lte', 18), ('gte', 12)],\n",
    "                                         iMeanPSFMag=[('lte', 18), ('gte', 12)],\n",
    "                                         zMeanPSFMag=[('lte', 18), ('gte', 12)],\n",
    "                                         sort_by=[(\"asc\", \"rMeanPSFMag\")])\n",
    "    \n",
    "\n",
    "    #we limit ourselves to bright objects so that we know that they will have high Signal-to-Noise\n",
    "    rmag = allcat['rMeanPSFMag']\n",
    "    good = np.isfinite(rmag) * rmag < rfaint\n",
    "    cat = allcat[good]\n",
    "    print('Keeping {}/{} Pan-STARRS sources with rmag< {}.'.format(len(cat), len(allcat),rfaint))\n",
    "    \n",
    "    #make B and V-band magnitudes using the transformations published in Tonry et al. (2012)\n",
    "    #https://ui.adsabs.harvard.edu/abs/2012ApJ...750...99T/abstract\n",
    "    cat['B'] = 0.213 + 0.587 * (cat['gMeanPSFMag'] - cat['rMeanPSFMag']) + cat['gMeanPSFMag'] \n",
    "    cat['V'] = 0.006 + 0.474 *  (cat['gMeanPSFMag'] - cat['rMeanPSFMag']) + cat['rMeanPSFMag'] \n",
    "    \n",
    "    return cat"
   ]
  },
  {
   "cell_type": "code",
   "execution_count": 18,
   "metadata": {},
   "outputs": [
    {
     "name": "stdout",
     "output_type": "stream",
     "text": [
      "Querying Pan-STARRS catalog with radius=0.200 deg and central coordinates RA,Dec=353.34789,58.48745\n"
     ]
    },
    {
     "name": "stderr",
     "output_type": "stream",
     "text": [
      "WARNING: InputWarning: Coordinate string is being interpreted as an ICRS coordinate provided in degrees. [astroquery.utils.commons]\n"
     ]
    },
    {
     "name": "stdout",
     "output_type": "stream",
     "text": [
      "Keeping 637/646 Pan-STARRS sources with rmag< 17.\n",
      "CPU times: user 301 ms, sys: 82.8 ms, total: 384 ms\n",
      "Wall time: 9.96 s\n"
     ]
    },
    {
     "data": {
      "text/html": [
       "<i>Table masked=True length=637</i>\n",
       "<table id=\"table140631462776720\" class=\"table-striped table-bordered table-condensed\">\n",
       "<thead><tr><th>objID</th><th>raMean</th><th>decMean</th><th>gMeanPSFMag</th><th>rMeanPSFMag</th><th>iMeanPSFMag</th><th>zMeanPSFMag</th><th>B</th><th>V</th></tr></thead>\n",
       "<thead><tr><th>int64</th><th>float64</th><th>float64</th><th>float64</th><th>float64</th><th>float64</th><th>float64</th><th>float64</th><th>float64</th></tr></thead>\n",
       "<tr><td>177973533643142604</td><td>353.36438085</td><td>58.30983231</td><td>12.566200256347656</td><td>12.007800102233887</td><td>13.251099586486816</td><td>12.253600120544434</td><td>13.106981146812439</td><td>12.278481775283813</td></tr>\n",
       "<tr><td>178253534222408649</td><td>353.42222936</td><td>58.54832542</td><td>13.094300270080566</td><td>12.312999725341797</td><td>13.089300155639648</td><td>12.481800079345703</td><td>13.765923689842225</td><td>12.689336183547974</td></tr>\n",
       "<tr><td>178063533638825273</td><td>353.3639764</td><td>58.38714689</td><td>12.656000137329102</td><td>12.395000457763672</td><td>12.265000343322754</td><td>12.16100025177002</td><td>13.02220694923401</td><td>12.524714305877685</td></tr>\n",
       "<tr><td>178193533621090461</td><td>353.36215886</td><td>58.49157593</td><td>13.093000411987305</td><td>12.541000366210938</td><td>12.26200008392334</td><td>12.09000015258789</td><td>13.630024438858031</td><td>12.808648387908935</td></tr>\n",
       "<tr><td>178003535709165660</td><td>353.57091598</td><td>58.33742606</td><td>12.979000091552734</td><td>12.571000099182129</td><td>12.34000015258789</td><td>12.159000396728516</td><td>13.43149608707428</td><td>12.770392095565796</td></tr>\n",
       "<tr><td>178243534353808280</td><td>353.43544285</td><td>58.53951268</td><td>13.38700008392334</td><td>12.699000358581543</td><td>12.326000213623047</td><td>12.074000358581543</td><td>14.003855922698975</td><td>13.031112228393555</td></tr>\n",
       "<tr><td>177943533354839104</td><td>353.33555251</td><td>58.2904111</td><td>14.216699600219727</td><td>12.987000465393066</td><td>12.402000427246094</td><td>12.01200008392334</td><td>15.151532992362975</td><td>13.575877855300904</td></tr>\n",
       "<tr><td>178283534833775064</td><td>353.48342907</td><td>58.57027888</td><td>13.446000099182129</td><td>13.022000312805176</td><td>12.788000106811523</td><td>12.595000267028809</td><td>13.9078879737854</td><td>13.228976211547852</td></tr>\n",
       "<tr><td>178203532822397719</td><td>353.28226479</td><td>58.50580757</td><td>13.437000274658203</td><td>13.062000274658203</td><td>12.831000328063965</td><td>12.675000190734863</td><td>13.870125274658204</td><td>13.245750274658203</td></tr>\n",
       "<tr><td>178343535329972488</td><td>353.53306465</td><td>58.61813399</td><td>13.969900131225586</td><td>13.088000297546387</td><td>12.800000190734863</td><td>12.607000350952148</td><td>14.700575333595276</td><td>13.512020818710328</td></tr>\n",
       "<tr><td>...</td><td>...</td><td>...</td><td>...</td><td>...</td><td>...</td><td>...</td><td>...</td><td>...</td></tr>\n",
       "<tr><td>178203534202427988</td><td>353.42031698</td><td>58.50600856</td><td>17.995800018310547</td><td>16.950199127197266</td><td>16.4064998626709</td><td>16.09709930419922</td><td>18.822567741394042</td><td>17.45181394958496</td></tr>\n",
       "<tr><td>178213531531431198</td><td>353.15311891</td><td>58.50870877</td><td>17.931800842285156</td><td>16.95039939880371</td><td>16.411800384521484</td><td>16.108800888061523</td><td>18.720883489608763</td><td>17.421583683013917</td></tr>\n",
       "<tr><td>178303533587926326</td><td>353.35876197</td><td>58.58796249</td><td>17.958900451660156</td><td>16.962600708007812</td><td>16.408899307250977</td><td>16.12019920349121</td><td>18.75672840118408</td><td>17.440846786499023</td></tr>\n",
       "<tr><td>178103532385686076</td><td>353.23854466</td><td>58.4211157</td><td>17.93899917602539</td><td>16.972700119018555</td><td>16.465700149536133</td><td>16.17729949951172</td><td>18.719216722488405</td><td>17.436725872039794</td></tr>\n",
       "<tr><td>177953533551475774</td><td>353.35513306</td><td>58.29588494</td><td>17.658700942993164</td><td>16.9822998046875</td><td>16.59950065612793</td><td>16.355600357055664</td><td>18.26874841117859</td><td>17.308913944244384</td></tr>\n",
       "<tr><td>178283536222115729</td><td>353.622211</td><td>58.570847</td><td>17.34000015258789</td><td>16.985000610351562</td><td>16.79800033569336</td><td>16.63800048828125</td><td>17.761384883880616</td><td>17.15927039337158</td></tr>\n",
       "<tr><td>178053535274722220</td><td>353.52743711</td><td>58.37626319</td><td>17.93549919128418</td><td>16.9906005859375</td><td>16.48889923095703</td><td>16.186500549316406</td><td>18.70315467262268</td><td>17.444482524871827</td></tr>\n",
       "<tr><td>178043533328551756</td><td>353.33284466</td><td>58.36753173</td><td>17.960399627685547</td><td>16.990999221801758</td><td>16.465700149536133</td><td>16.17289924621582</td><td>18.74243766593933</td><td>17.456495014190672</td></tr>\n",
       "<tr><td>178183532549873352</td><td>353.25495598</td><td>58.48549879</td><td>17.937400817871094</td><td>16.995399475097656</td><td>16.4906005859375</td><td>16.207000732421875</td><td>18.7033556060791</td><td>17.447908111572264</td></tr>\n",
       "<tr><td>178123531943045190</td><td>353.19428958</td><td>58.43704451</td><td>17.98539924621582</td><td>16.99799919128418</td><td>16.4778995513916</td><td>16.199899673461914</td><td>18.778003078460692</td><td>17.472026817321776</td></tr>\n",
       "</table>"
      ],
      "text/plain": [
       "<Table masked=True length=637>\n",
       "      objID           raMean    ...         B                  V         \n",
       "      int64          float64    ...      float64            float64      \n",
       "------------------ ------------ ... ------------------ ------------------\n",
       "177973533643142604 353.36438085 ... 13.106981146812439 12.278481775283813\n",
       "178253534222408649 353.42222936 ... 13.765923689842225 12.689336183547974\n",
       "178063533638825273  353.3639764 ...  13.02220694923401 12.524714305877685\n",
       "178193533621090461 353.36215886 ... 13.630024438858031 12.808648387908935\n",
       "178003535709165660 353.57091598 ...  13.43149608707428 12.770392095565796\n",
       "178243534353808280 353.43544285 ... 14.003855922698975 13.031112228393555\n",
       "177943533354839104 353.33555251 ... 15.151532992362975 13.575877855300904\n",
       "178283534833775064 353.48342907 ...   13.9078879737854 13.228976211547852\n",
       "178203532822397719 353.28226479 ... 13.870125274658204 13.245750274658203\n",
       "178343535329972488 353.53306465 ... 14.700575333595276 13.512020818710328\n",
       "               ...          ... ...                ...                ...\n",
       "178203534202427988 353.42031698 ... 18.822567741394042  17.45181394958496\n",
       "178213531531431198 353.15311891 ... 18.720883489608763 17.421583683013917\n",
       "178303533587926326 353.35876197 ...  18.75672840118408 17.440846786499023\n",
       "178103532385686076 353.23854466 ... 18.719216722488405 17.436725872039794\n",
       "177953533551475774 353.35513306 ...  18.26874841117859 17.308913944244384\n",
       "178283536222115729   353.622211 ... 17.761384883880616  17.15927039337158\n",
       "178053535274722220 353.52743711 ...  18.70315467262268 17.444482524871827\n",
       "178043533328551756 353.33284466 ...  18.74243766593933 17.456495014190672\n",
       "178183532549873352 353.25495598 ...   18.7033556060791 17.447908111572264\n",
       "178123531943045190 353.19428958 ... 18.778003078460692 17.472026817321776"
      ]
     },
     "execution_count": 18,
     "metadata": {},
     "output_type": "execute_result"
    }
   ],
   "source": [
    "%time refcat_King20_V = get_panstarrs_catalog(imgwcs_King20_V, radius=0.2)\n",
    "refcat_King20_V"
   ]
  },
  {
   "cell_type": "code",
   "execution_count": 20,
   "metadata": {},
   "outputs": [
    {
     "name": "stdout",
     "output_type": "stream",
     "text": [
      "Querying Pan-STARRS catalog with radius=0.200 deg and central coordinates RA,Dec=353.31246,58.48701\n",
      "Keeping 625/634 Pan-STARRS sources with rmag< 17.\n",
      "CPU times: user 28.5 ms, sys: 6.91 ms, total: 35.4 ms\n",
      "Wall time: 2.71 s\n"
     ]
    },
    {
     "data": {
      "text/html": [
       "<i>Table masked=True length=625</i>\n",
       "<table id=\"table140631470852816\" class=\"table-striped table-bordered table-condensed\">\n",
       "<thead><tr><th>objID</th><th>raMean</th><th>decMean</th><th>gMeanPSFMag</th><th>rMeanPSFMag</th><th>iMeanPSFMag</th><th>zMeanPSFMag</th><th>B</th><th>V</th></tr></thead>\n",
       "<thead><tr><th>int64</th><th>float64</th><th>float64</th><th>float64</th><th>float64</th><th>float64</th><th>float64</th><th>float64</th><th>float64</th></tr></thead>\n",
       "<tr><td>177973533643142604</td><td>353.36438085</td><td>58.30983231</td><td>12.566200256347656</td><td>12.007800102233887</td><td>13.251099586486816</td><td>12.253600120544434</td><td>13.106981146812439</td><td>12.278481775283813</td></tr>\n",
       "<tr><td>178253534222408649</td><td>353.42222936</td><td>58.54832542</td><td>13.094300270080566</td><td>12.312999725341797</td><td>13.089300155639648</td><td>12.481800079345703</td><td>13.765923689842225</td><td>12.689336183547974</td></tr>\n",
       "<tr><td>178063533638825273</td><td>353.3639764</td><td>58.38714689</td><td>12.656000137329102</td><td>12.395000457763672</td><td>12.265000343322754</td><td>12.16100025177002</td><td>13.02220694923401</td><td>12.524714305877685</td></tr>\n",
       "<tr><td>178193533621090461</td><td>353.36215886</td><td>58.49157593</td><td>13.093000411987305</td><td>12.541000366210938</td><td>12.26200008392334</td><td>12.09000015258789</td><td>13.630024438858031</td><td>12.808648387908935</td></tr>\n",
       "<tr><td>178243534353808280</td><td>353.43544285</td><td>58.53951268</td><td>13.38700008392334</td><td>12.699000358581543</td><td>12.326000213623047</td><td>12.074000358581543</td><td>14.003855922698975</td><td>13.031112228393555</td></tr>\n",
       "<tr><td>177943533354839104</td><td>353.33555251</td><td>58.2904111</td><td>14.216699600219727</td><td>12.987000465393066</td><td>12.402000427246094</td><td>12.01200008392334</td><td>15.151532992362975</td><td>13.575877855300904</td></tr>\n",
       "<tr><td>178283534833775064</td><td>353.48342907</td><td>58.57027888</td><td>13.446000099182129</td><td>13.022000312805176</td><td>12.788000106811523</td><td>12.595000267028809</td><td>13.9078879737854</td><td>13.228976211547852</td></tr>\n",
       "<tr><td>178203532822397719</td><td>353.28226479</td><td>58.50580757</td><td>13.437000274658203</td><td>13.062000274658203</td><td>12.831000328063965</td><td>12.675000190734863</td><td>13.870125274658204</td><td>13.245750274658203</td></tr>\n",
       "<tr><td>178343535329972488</td><td>353.53306465</td><td>58.61813399</td><td>13.969900131225586</td><td>13.088000297546387</td><td>12.800000190734863</td><td>12.607000350952148</td><td>14.700575333595276</td><td>13.512020818710328</td></tr>\n",
       "<tr><td>178153533314536621</td><td>353.33152159</td><td>58.46327121</td><td>14.501399993896484</td><td>13.14900016784668</td><td>12.534000396728516</td><td>12.111000061035156</td><td>15.50825869178772</td><td>13.796037685394287</td></tr>\n",
       "<tr><td>...</td><td>...</td><td>...</td><td>...</td><td>...</td><td>...</td><td>...</td><td>...</td><td>...</td></tr>\n",
       "<tr><td>178213531531431198</td><td>353.15311891</td><td>58.50870877</td><td>17.931800842285156</td><td>16.95039939880371</td><td>16.411800384521484</td><td>16.108800888061523</td><td>18.720883489608763</td><td>17.421583683013917</td></tr>\n",
       "<tr><td>178303533587926326</td><td>353.35876197</td><td>58.58796249</td><td>17.958900451660156</td><td>16.962600708007812</td><td>16.408899307250977</td><td>16.12019920349121</td><td>18.75672840118408</td><td>17.440846786499023</td></tr>\n",
       "<tr><td>178103532385686076</td><td>353.23854466</td><td>58.4211157</td><td>17.93899917602539</td><td>16.972700119018555</td><td>16.465700149536133</td><td>16.17729949951172</td><td>18.719216722488405</td><td>17.436725872039794</td></tr>\n",
       "<tr><td>178303530050130860</td><td>353.00500804</td><td>58.58343561</td><td>17.83989906311035</td><td>16.980100631713867</td><td>16.482200622558594</td><td>16.152799606323242</td><td>18.55760074234009</td><td>17.3936450881958</td></tr>\n",
       "<tr><td>177953533551475774</td><td>353.35513306</td><td>58.29588494</td><td>17.658700942993164</td><td>16.9822998046875</td><td>16.59950065612793</td><td>16.355600357055664</td><td>18.26874841117859</td><td>17.308913944244384</td></tr>\n",
       "<tr><td>178283536222115729</td><td>353.622211</td><td>58.570847</td><td>17.34000015258789</td><td>16.985000610351562</td><td>16.79800033569336</td><td>16.63800048828125</td><td>17.761384883880616</td><td>17.15927039337158</td></tr>\n",
       "<tr><td>178053535274722220</td><td>353.52743711</td><td>58.37626319</td><td>17.93549919128418</td><td>16.9906005859375</td><td>16.48889923095703</td><td>16.186500549316406</td><td>18.70315467262268</td><td>17.444482524871827</td></tr>\n",
       "<tr><td>178043533328551756</td><td>353.33284466</td><td>58.36753173</td><td>17.960399627685547</td><td>16.990999221801758</td><td>16.465700149536133</td><td>16.17289924621582</td><td>18.74243766593933</td><td>17.456495014190672</td></tr>\n",
       "<tr><td>178183532549873352</td><td>353.25495598</td><td>58.48549879</td><td>17.937400817871094</td><td>16.995399475097656</td><td>16.4906005859375</td><td>16.207000732421875</td><td>18.7033556060791</td><td>17.447908111572264</td></tr>\n",
       "<tr><td>178123531943045190</td><td>353.19428958</td><td>58.43704451</td><td>17.98539924621582</td><td>16.99799919128418</td><td>16.4778995513916</td><td>16.199899673461914</td><td>18.778003078460692</td><td>17.472026817321776</td></tr>\n",
       "</table>"
      ],
      "text/plain": [
       "<Table masked=True length=625>\n",
       "      objID           raMean    ...         B                  V         \n",
       "      int64          float64    ...      float64            float64      \n",
       "------------------ ------------ ... ------------------ ------------------\n",
       "177973533643142604 353.36438085 ... 13.106981146812439 12.278481775283813\n",
       "178253534222408649 353.42222936 ... 13.765923689842225 12.689336183547974\n",
       "178063533638825273  353.3639764 ...  13.02220694923401 12.524714305877685\n",
       "178193533621090461 353.36215886 ... 13.630024438858031 12.808648387908935\n",
       "178243534353808280 353.43544285 ... 14.003855922698975 13.031112228393555\n",
       "177943533354839104 353.33555251 ... 15.151532992362975 13.575877855300904\n",
       "178283534833775064 353.48342907 ...   13.9078879737854 13.228976211547852\n",
       "178203532822397719 353.28226479 ... 13.870125274658204 13.245750274658203\n",
       "178343535329972488 353.53306465 ... 14.700575333595276 13.512020818710328\n",
       "178153533314536621 353.33152159 ...  15.50825869178772 13.796037685394287\n",
       "               ...          ... ...                ...                ...\n",
       "178213531531431198 353.15311891 ... 18.720883489608763 17.421583683013917\n",
       "178303533587926326 353.35876197 ...  18.75672840118408 17.440846786499023\n",
       "178103532385686076 353.23854466 ... 18.719216722488405 17.436725872039794\n",
       "178303530050130860 353.00500804 ...  18.55760074234009   17.3936450881958\n",
       "177953533551475774 353.35513306 ...  18.26874841117859 17.308913944244384\n",
       "178283536222115729   353.622211 ... 17.761384883880616  17.15927039337158\n",
       "178053535274722220 353.52743711 ...  18.70315467262268 17.444482524871827\n",
       "178043533328551756 353.33284466 ...  18.74243766593933 17.456495014190672\n",
       "178183532549873352 353.25495598 ...   18.7033556060791 17.447908111572264\n",
       "178123531943045190 353.19428958 ... 18.778003078460692 17.472026817321776"
      ]
     },
     "execution_count": 20,
     "metadata": {},
     "output_type": "execute_result"
    }
   ],
   "source": [
    "%time refcat_ngc7128_B = get_panstarrs_catalog(imgwcs_ngc7128_B, radius=0.2)\n",
    "refcat_ngc7128_B"
   ]
  },
  {
   "cell_type": "markdown",
   "metadata": {},
   "source": [
    "We need to match the Pan-STARRS catalog against ours.  First we need to compute the nearest Pan-STARRS star to each of ours and look at the distribution of distances to find the optimal match."
   ]
  },
  {
   "cell_type": "code",
   "execution_count": 21,
   "metadata": {},
   "outputs": [],
   "source": [
    "def sep_check(imgwcs,srcs,refcat):\n",
    "    import astropy.units as u\n",
    "    from astropy.coordinates import SkyCoord\n",
    "    \n",
    "    #this makes an instance of a SkyCoord class containing the RAs and Decs from Pan-STARRS objects\n",
    "    refcoord = SkyCoord(ra=refcat['raMean']*u.deg, dec=refcat['decMean']*u.deg)\n",
    "    #This uses the WCS to convert the x and y positions of stars in our image to RA-DEC\n",
    "    radec_stars = imgwcs.all_pix2world(srcs['xcentroid']+1, srcs['ycentroid']+1, 1)\n",
    "    #this does the same from our targets \n",
    "    coord = SkyCoord(ra=radec_stars[0]*u.deg, dec=radec_stars[1]*u.deg)\n",
    "\n",
    "    #this calculates the separations.  The \"_\" are values that are thrown away\n",
    "    _, sep2d, _ = coord.match_to_catalog_sky(refcoord)\n",
    "\n",
    "    #plot the histograms\n",
    "    _ = plt.hist(sep2d.arcsec, bins=100, range=(-0.5, 3))\n",
    "    return refcoord, coord"
   ]
  },
  {
   "cell_type": "code",
   "execution_count": 22,
   "metadata": {},
   "outputs": [
    {
     "data": {
      "image/png": "[encoded data removed]",
      "text/plain": [
       "<Figure size 432x288 with 1 Axes>"
      ]
     },
     "metadata": {
      "needs_background": "light"
     },
     "output_type": "display_data"
    }
   ],
   "source": [
    "refcoord_King20_V, coord_King20_V = sep_check(imgwcs_King20_V,srcs_King20_V,refcat_King20_V)"
   ]
  },
  {
   "cell_type": "code",
   "execution_count": 23,
   "metadata": {},
   "outputs": [
    {
     "data": {
      "image/png": "[encoded data removed]",
      "text/plain": [
       "<Figure size 432x288 with 1 Axes>"
      ]
     },
     "metadata": {
      "needs_background": "light"
     },
     "output_type": "display_data"
    }
   ],
   "source": [
    "refcoord_ngc7128_B, coord_ngc7128_B = sep_check(imgwcs_ngc7128_B,srcs_ngc7128_B,refcat_ngc7128_B)"
   ]
  },
  {
   "cell_type": "markdown",
   "metadata": {},
   "source": [
    "It looks like the optimal match is less than 1.0 arcsec.  The following routine matches to within this tolerance"
   ]
  },
  {
   "cell_type": "code",
   "execution_count": 24,
   "metadata": {},
   "outputs": [],
   "source": [
    "#take two lists of coordinates \n",
    "def match_src_ref(refcoord, coord, srcs, img, radasec = 1.0):\n",
    "    rad = radasec * u.arcsec\n",
    "\n",
    "    #find the indices of the reference and source list that correspond to matching objects such that\n",
    "    #the first index in each list corresponds to the first matching object\n",
    "    indx_ref, indx, d2d, _ = coord.search_around_sky(refcoord, rad)\n",
    "    nmatch = len(indx_ref)\n",
    "    print('Found {}/{} stars within {}'.format(nmatch, len(srcs), rad))\n",
    "    display_image(img, srcs=srcs[indx], calibrated=True)\n",
    "    return indx, indx_ref"
   ]
  },
  {
   "cell_type": "code",
   "execution_count": 25,
   "metadata": {},
   "outputs": [
    {
     "ename": "NameError",
     "evalue": "name 'u' is not defined",
     "output_type": "error",
     "traceback": [
      "\u001b[0;31m---------------------------------------------------------------------------\u001b[0m",
      "\u001b[0;31mNameError\u001b[0m                                 Traceback (most recent call last)",
      "\u001b[0;32m<ipython-input-25-084404f7a946>\u001b[0m in \u001b[0;36m<module>\u001b[0;34m\u001b[0m\n\u001b[0;32m----> 1\u001b[0;31m \u001b[0mindx_King20_V\u001b[0m\u001b[0;34m,\u001b[0m \u001b[0mindx_ref_King20_V\u001b[0m \u001b[0;34m=\u001b[0m \u001b[0mmatch_src_ref\u001b[0m\u001b[0;34m(\u001b[0m\u001b[0mrefcoord_King20_V\u001b[0m\u001b[0;34m,\u001b[0m \u001b[0mcoord_King20_V\u001b[0m\u001b[0;34m,\u001b[0m \u001b[0msrcs_King20_V\u001b[0m\u001b[0;34m,\u001b[0m \u001b[0mimg_King20_V\u001b[0m\u001b[0;34m)\u001b[0m\u001b[0;34m\u001b[0m\u001b[0;34m\u001b[0m\u001b[0m\n\u001b[0m\u001b[1;32m      2\u001b[0m \u001b[0mindx_ngc7128_B\u001b[0m\u001b[0;34m,\u001b[0m \u001b[0mindx_ref_ngc7128_B\u001b[0m \u001b[0;34m=\u001b[0m \u001b[0mmatch_src_ref\u001b[0m\u001b[0;34m(\u001b[0m\u001b[0mrefcoord_ngc7128_B\u001b[0m\u001b[0;34m,\u001b[0m \u001b[0mcoord_ngc7128_B\u001b[0m\u001b[0;34m,\u001b[0m \u001b[0msrcs_ngc7128_B\u001b[0m\u001b[0;34m,\u001b[0m \u001b[0mimg_ngc7128_B\u001b[0m\u001b[0;34m)\u001b[0m\u001b[0;34m\u001b[0m\u001b[0;34m\u001b[0m\u001b[0m\n",
      "\u001b[0;32m<ipython-input-24-b9572effb346>\u001b[0m in \u001b[0;36mmatch_src_ref\u001b[0;34m(refcoord, coord, srcs, img, radasec)\u001b[0m\n\u001b[1;32m      1\u001b[0m \u001b[0;31m#take two lists of coordinates\u001b[0m\u001b[0;34m\u001b[0m\u001b[0;34m\u001b[0m\u001b[0;34m\u001b[0m\u001b[0m\n\u001b[1;32m      2\u001b[0m \u001b[0;32mdef\u001b[0m \u001b[0mmatch_src_ref\u001b[0m\u001b[0;34m(\u001b[0m\u001b[0mrefcoord\u001b[0m\u001b[0;34m,\u001b[0m \u001b[0mcoord\u001b[0m\u001b[0;34m,\u001b[0m \u001b[0msrcs\u001b[0m\u001b[0;34m,\u001b[0m \u001b[0mimg\u001b[0m\u001b[0;34m,\u001b[0m \u001b[0mradasec\u001b[0m \u001b[0;34m=\u001b[0m \u001b[0;36m1.0\u001b[0m\u001b[0;34m)\u001b[0m\u001b[0;34m:\u001b[0m\u001b[0;34m\u001b[0m\u001b[0;34m\u001b[0m\u001b[0m\n\u001b[0;32m----> 3\u001b[0;31m     \u001b[0mrad\u001b[0m \u001b[0;34m=\u001b[0m \u001b[0mradasec\u001b[0m \u001b[0;34m*\u001b[0m \u001b[0mu\u001b[0m\u001b[0;34m.\u001b[0m\u001b[0marcsec\u001b[0m\u001b[0;34m\u001b[0m\u001b[0;34m\u001b[0m\u001b[0m\n\u001b[0m\u001b[1;32m      4\u001b[0m \u001b[0;34m\u001b[0m\u001b[0m\n\u001b[1;32m      5\u001b[0m     \u001b[0;31m#find the indices of the reference and source list that correspond to matching objects such that\u001b[0m\u001b[0;34m\u001b[0m\u001b[0;34m\u001b[0m\u001b[0;34m\u001b[0m\u001b[0m\n",
      "\u001b[0;31mNameError\u001b[0m: name 'u' is not defined"
     ]
    }
   ],
   "source": [
    "indx_King20_V, indx_ref_King20_V = match_src_ref(refcoord_King20_V, coord_King20_V, srcs_King20_V, img_King20_V)\n",
    "indx_ngc7128_B, indx_ref_ngc7128_B = match_src_ref(refcoord_ngc7128_B, coord_ngc7128_B, srcs_ngc7128_B, img_ngc7128_B)"
   ]
  },
  {
   "cell_type": "markdown",
   "metadata": {},
   "source": [
    "Now let's calculate the zeropoints for each image.  To compare our objects to those from Pan-STARRS we will need to correct for the effects of airmass.\n",
    "\n",
    "We start by specifying the atmospheric extinction coefficient for each object.  This says for a typical atmosphere, how much the magnitude changes for an increase in airmass of 1.  We could have measured this using mutliple standard stars but will just assume a cannonical value for now."
   ]
  },
  {
   "cell_type": "code",
   "execution_count": null,
   "metadata": {},
   "outputs": [],
   "source": [
    "def zp_meas(srcs, refcat, indx, indx_ref, hdr):\n",
    "    kext = {'B': 0.4, 'V': 0.2}\n",
    "    import numpy.ma as ma\n",
    "\n",
    "    #this consists of the instrumental magnitude, which is the magnitude, including an airmass correction\n",
    "    #but without a true zeropoint.  The second term says how the magnitude \n",
    "    #m(inst) = -2.5 * log(flux) - (sec z) * k\n",
    "    instmag = srcs['mag'][indx].data - hdr['AIRMASS'] * kext[hdr['FILTER']]\n",
    "\n",
    "    #the Pan-STARRS magnitudes for the same objects, as indicated using the indx_ref array\n",
    "    psmag = refcat[hdr['FILTER']][indx_ref].data\n",
    "\n",
    "    #calculate the median zeropoint defined as\n",
    "    #psmag = -2.5 * log(flux) - (sec z) * k + ZP = m(inst) + ZP\n",
    "    medzp = np.median(psmag - instmag)\n",
    "    print(hdr['FILTER'],'zeropoint = ', medzp)\n",
    "    print('Airmass in {} was {}'.format(hdr['FILTER'], hdr['AIRMASS']))\n",
    "    return medzp"
   ]
  },
  {
   "cell_type": "code",
   "execution_count": null,
   "metadata": {},
   "outputs": [],
   "source": [
    "ZPV = zp_meas(srcs_ngc7296_V,refcat_ngc7296_V, indx_ngc7296_V, indx_ref_ngc7296_V,hdr_ngc7296_V)\n",
    "ZPB = zp_meas(srcs_ngc7296_B,refcat_ngc7296_B, indx_ngc7296_B, indx_ref_ngc7296_B,hdr_ngc7296_B)"
   ]
  },
  {
   "cell_type": "markdown",
   "metadata": {},
   "source": [
    "Now match the B and V-band catalogs together for this cluster, apply the zeropoints, and plot a CMD!"
   ]
  },
  {
   "cell_type": "code",
   "execution_count": null,
   "metadata": {},
   "outputs": [],
   "source": [
    "def make_CMD(img_B,imgwcs_B,srcs_B,imgwcs_V,srcs_V, hdr_B, hdr_V, ZPB, ZPV, radasec = 1.0):\n",
    "    import astropy.units as u\n",
    "    from astropy.coordinates import SkyCoord\n",
    "    import numpy.ma as ma\n",
    "    kext = {'B': 0.4, 'V': 0.2}\n",
    "    rad = radasec * u.arcsec\n",
    "    \n",
    "    #This uses the WCS to convert the x and y positions of stars in our image to RA-DEC\n",
    "    radec_stars_B = imgwcs_B.all_pix2world(srcs_B['xcentroid']+1, srcs_B['ycentroid']+1, 1)\n",
    "    radec_stars_V = imgwcs_V.all_pix2world(srcs_V['xcentroid']+1, srcs_V['ycentroid']+1, 1)\n",
    "    #this makes an instance of a SkyCoord class containing the RAs and Decs from the B-band\n",
    "    coord_B = SkyCoord(ra=radec_stars_B[0]*u.deg, dec=radec_stars_B[1]*u.deg)\n",
    "    coord_V = SkyCoord(ra=radec_stars_V[0]*u.deg, dec=radec_stars_V[1]*u.deg)\n",
    "\n",
    "    #this calculates the separations.  The \"_\" are values that are thrown away\n",
    "    _, sep2d, _ = coord_B.match_to_catalog_sky(coord_V)\n",
    "\n",
    "    #plot the histograms\n",
    "    _ = plt.hist(sep2d.arcsec, bins=100, range=(-0.5, 3))\n",
    "    plt.xlabel('Sep between B and V sources [arcsec]',fontsize=14)\n",
    "    plt.ylabel('N',fontsize=14)\n",
    "\n",
    "\n",
    "    #find the indices of the reference and source list that correspond to matching objects such that\n",
    "    #the first index in each list corresponds to the first matching object\n",
    "    indx_B, indx_V, d2d, _ = coord_V.search_around_sky(coord_B, rad)\n",
    "    nmatch = len(indx_B)\n",
    "    print('Found {}/{} stars within {}'.format(nmatch, len(srcs_B), rad))\n",
    "    display_image(img_B, srcs=srcs_B[indx_B], calibrated=True)\n",
    "    \n",
    "    #make the B and V-band magnitudes\n",
    "    magB = srcs_B['mag'][indx_B].data + ZPB - hdr_B['AIRMASS'] * kext[hdr_B['FILTER']]\n",
    "    magV = srcs_V['mag'][indx_V].data + ZPV - hdr_V['AIRMASS'] * kext[hdr_V['FILTER']]\n",
    "    #print(magB)\n",
    "    #print(magV)\n",
    "    #print(magB-magV)\n",
    "\n",
    "    #plot the CMD!\n",
    "    fig, ax = plt.subplots(figsize=(10, 10))\n",
    "    ax.plot(magB-magV, magV, 'ro',alpha=0.7)\n",
    "    ax.set_ylim(19,10)\n",
    "    ax.set_xlabel('B-V',fontsize=18)\n",
    "    ax.set_ylabel('V',fontsize=18)\n",
    "    plt.show\n"
   ]
  },
  {
   "cell_type": "code",
   "execution_count": null,
   "metadata": {},
   "outputs": [],
   "source": [
    "make_CMD(img_ngc7296_B, imgwcs_ngc7296_B, srcs_ngc7296_B,imgwcs_ngc7296_V, srcs_ngc7296_V, hdr_ngc7296_B, hdr_ngc7296_V, ZPB, ZPV, radasec = 1.0)"
   ]
  },
  {
   "cell_type": "code",
   "execution_count": null,
   "metadata": {},
   "outputs": [],
   "source": []
  }
 ],
 "metadata": {
  "kernelspec": {
   "display_name": "Python 3",
   "language": "python",
   "name": "python3"
  },
  "language_info": {
   "codemirror_mode": {
    "name": "ipython",
    "version": 3
   },
   "file_extension": ".py",
   "mimetype": "text/x-python",
   "name": "python",
   "nbconvert_exporter": "python",
   "pygments_lexer": "ipython3",
   "version": "3.7.4"
  }
 },
 "nbformat": 4,
 "nbformat_minor": 2
}
